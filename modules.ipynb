{
  "nbformat": 4,
  "nbformat_minor": 0,
  "metadata": {
    "colab": {
      "provenance": [],
      "authorship_tag": "ABX9TyOo2w07nkA1cWGDclyQe+6h",
      "include_colab_link": true
    },
    "kernelspec": {
      "name": "python3",
      "display_name": "Python 3"
    },
    "language_info": {
      "name": "python"
    }
  },
  "cells": [
    {
      "cell_type": "markdown",
      "metadata": {
        "id": "view-in-github",
        "colab_type": "text"
      },
      "source": [
        "<a href=\"https://colab.research.google.com/github/chaitykundu/Python/blob/main/modules.ipynb\" target=\"_parent\"><img src=\"https://colab.research.google.com/assets/colab-badge.svg\" alt=\"Open In Colab\"/></a>"
      ]
    },
    {
      "cell_type": "markdown",
      "source": [
        "**Python** **Modules** Consider a module to be the same as a code library.\n",
        "\n",
        "A file containing a set of functions you want to include in your application."
      ],
      "metadata": {
        "id": "R964qosZ68BA"
      }
    },
    {
      "cell_type": "code",
      "source": [
        "def msg(name):\n",
        "  print(\"Hii \" + name)\n",
        "msg(\"Chaity\")"
      ],
      "metadata": {
        "id": "0u83yUMY7AwM",
        "colab": {
          "base_uri": "https://localhost:8080/"
        },
        "outputId": "0705c81a-9dbd-49cb-b886-07289417142f"
      },
      "execution_count": null,
      "outputs": [
        {
          "output_type": "stream",
          "name": "stdout",
          "text": [
            "Hii Chaity\n"
          ]
        }
      ]
    },
    {
      "cell_type": "code",
      "source": [
        "import datetime\n",
        "y = datetime.datetime.now()\n",
        "x= datetime.datetime(2024, 8, 15)\n",
        "print(y)\n",
        "print(y.year)\n",
        "print(x)\n",
        "#month name b=short, B= full\n",
        "print(x.strftime(\"%b\"))"
      ],
      "metadata": {
        "colab": {
          "base_uri": "https://localhost:8080/"
        },
        "id": "0JoeHkaHj4Fc",
        "outputId": "d65dc95e-1f22-48b5-aa8f-0fab4e08ac4b"
      },
      "execution_count": null,
      "outputs": [
        {
          "output_type": "stream",
          "name": "stdout",
          "text": [
            "2025-05-12 17:42:57.852605\n",
            "2025\n",
            "2024-08-15 00:00:00\n",
            "Aug\n"
          ]
        }
      ]
    },
    {
      "cell_type": "markdown",
      "source": [
        "### Python Math"
      ],
      "metadata": {
        "id": "lD9fOX6PmKtG"
      }
    },
    {
      "cell_type": "code",
      "source": [
        "a= min(10, -5, 0)\n",
        "print(a)\n",
        "b= max(10, -5, 0)\n",
        "print(b)\n",
        "\n",
        "import math\n",
        "x =math.sqrt(100)\n",
        "print(x)"
      ],
      "metadata": {
        "colab": {
          "base_uri": "https://localhost:8080/"
        },
        "id": "V08gR1PkmQPr",
        "outputId": "ae10c266-d587-4bf2-b3ad-ab2bd789e3f6"
      },
      "execution_count": null,
      "outputs": [
        {
          "output_type": "stream",
          "name": "stdout",
          "text": [
            "-5\n",
            "10\n",
            "10.0\n"
          ]
        }
      ]
    },
    {
      "cell_type": "code",
      "source": [
        "import math\n",
        "\n",
        "x = math.ceil(2.4)\n",
        "y = math.floor(2.4)\n",
        "\n",
        "print(x) # returns 2 = upwards\n",
        "print(y) # returns 1 = downwards"
      ],
      "metadata": {
        "colab": {
          "base_uri": "https://localhost:8080/"
        },
        "id": "5tRJab6dnK9s",
        "outputId": "8142d6b0-0ca5-485e-a6b8-b0f3895b7bf2"
      },
      "execution_count": null,
      "outputs": [
        {
          "output_type": "stream",
          "name": "stdout",
          "text": [
            "3\n",
            "2\n"
          ]
        }
      ]
    },
    {
      "cell_type": "code",
      "source": [
        "import re\n",
        "\n",
        "#Return a list containing every occurrence of \"in\":\n",
        "\n",
        "txt = \"The rain in Spain\"\n",
        "x = re.findall(\"in\", txt)\n",
        "print(x)\n"
      ],
      "metadata": {
        "colab": {
          "base_uri": "https://localhost:8080/"
        },
        "id": "39wNjq_7opl-",
        "outputId": "b15e7d0f-5e1d-4e65-ade9-7922cfb63faf"
      },
      "execution_count": null,
      "outputs": [
        {
          "output_type": "stream",
          "name": "stdout",
          "text": [
            "['in', 'in', 'in']\n"
          ]
        }
      ]
    },
    {
      "cell_type": "code",
      "source": [
        "#re= Regular Expression\n",
        "import re\n",
        "msg = \"Welcome to Python\"\n",
        "x=re.findall(\"b\", msg)\n",
        "print(x)\n",
        "if (x):\n",
        "  print(\"Yes\")\n",
        "else:\n",
        "  print(\"no match\")"
      ],
      "metadata": {
        "colab": {
          "base_uri": "https://localhost:8080/"
        },
        "id": "F4KzfEg1ov8R",
        "outputId": "3cfea4f8-7193-4fc6-b017-c44799837f2f"
      },
      "execution_count": null,
      "outputs": [
        {
          "output_type": "stream",
          "name": "stdout",
          "text": [
            "[]\n",
            "no match\n"
          ]
        }
      ]
    }
  ]
}