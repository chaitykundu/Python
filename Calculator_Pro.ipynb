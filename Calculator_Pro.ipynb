{
  "nbformat": 4,
  "nbformat_minor": 0,
  "metadata": {
    "colab": {
      "provenance": [],
      "authorship_tag": "ABX9TyOvilF84W4XJOslR1mWLZt3",
      "include_colab_link": true
    },
    "kernelspec": {
      "name": "python3",
      "display_name": "Python 3"
    },
    "language_info": {
      "name": "python"
    }
  },
  "cells": [
    {
      "cell_type": "markdown",
      "metadata": {
        "id": "view-in-github",
        "colab_type": "text"
      },
      "source": [
        "<a href=\"https://colab.research.google.com/github/chaitykundu/Python/blob/main/Calculator_Pro.ipynb\" target=\"_parent\"><img src=\"https://colab.research.google.com/assets/colab-badge.svg\" alt=\"Open In Colab\"/></a>"
      ]
    },
    {
      "cell_type": "markdown",
      "source": [
        "**Write a python program to build a simple calculator**"
      ],
      "metadata": {
        "id": "j0U4vMCgWBhL"
      }
    },
    {
      "cell_type": "code",
      "source": [
        "#Addition\n",
        "def add(num1, num2):\n",
        "  return num1 + num2\n",
        "\n",
        "#Subtraction\n",
        "def sub(num1, num2):\n",
        "  return num1 + num2\n",
        "\n",
        "#Multiplication\n",
        "def multiply(num1, num2):\n",
        "  return num1 + num2\n",
        "\n",
        "#Division\n",
        "def div(num1, num2):\n",
        "  return num1 + num2\n",
        "\n",
        "#Average\n",
        "def avg(num1, num2):\n",
        "  return ((num1 + num2)/2)\n",
        "\n",
        "#User - input\n",
        "print(\"Select operation:\")\n",
        "print(\"1.Add\")\n",
        "print(\"2.Subtraction\")\n",
        "print(\"3.Multiplication\")\n",
        "print(\"4. Division\")\n",
        "print(\"5. Average\")\n",
        "\n",
        "select = int(input(\"Select operations form 1, 2, 3, 4, 5 :\"))\n",
        "number_1 = int(input(\"Enter first number: \"))\n",
        "number_2 = int(input(\"Enter second number: \"))\n",
        "\n",
        "if select == 1:\n",
        "  print(\"The addition is:\", number_1, \"+\", number_2, \"=\", add(number_1, number_2))\n",
        "\n",
        "elif select == 2:\n",
        "    print(\"The Subtraction is:\", number_1, \"-\", number_2, \"=\", sub(number_1, number_2))\n",
        "elif select ==3:\n",
        "    print(\"The Multiplicatin is:\", number_1, \"*\", number_2, \"=\", multiply(number_1, number_2))\n",
        "elif select == 4:\n",
        "    print(\"The Division is:\", number_1, \"/\", number_2, \"=\", div(number_1, number_2))\n",
        "elif select == 5:\n",
        "    print(\"The average of \", number_1, \"and\", number_2, \"is\", avg(number_1, number_2))\n",
        "else:\n",
        "  print(\"Invalid input\")"
      ],
      "metadata": {
        "colab": {
          "base_uri": "https://localhost:8080/"
        },
        "id": "tkLcXEmIWQp5",
        "outputId": "d667150d-2372-4952-8650-be7cb145ed95"
      },
      "execution_count": 8,
      "outputs": [
        {
          "output_type": "stream",
          "name": "stdout",
          "text": [
            "Select operation:\n",
            "1.Add\n",
            "2.Subtraction\n",
            "3.Multiplication\n",
            "4. Division\n",
            "5. Average\n",
            "Select operations form 1, 2, 3, 4, 5 :2\n",
            "Enter first number: 8\n",
            "Enter second number: 7\n",
            "The Subtraction is: 8 - 7 = 15\n"
          ]
        }
      ]
    }
  ]
}