{
  "cells": [
    {
      "cell_type": "markdown",
      "metadata": {
        "id": "view-in-github",
        "colab_type": "text"
      },
      "source": [
        "<a href=\"https://colab.research.google.com/github/chaitykundu/Python/blob/main/list.ipynb\" target=\"_parent\"><img src=\"https://colab.research.google.com/assets/colab-badge.svg\" alt=\"Open In Colab\"/></a>"
      ]
    },
    {
      "cell_type": "markdown",
      "metadata": {
        "id": "-wMfHv8nK47I"
      },
      "source": [
        "**Python List:**\n",
        "Lists are used to store multiple items in a single variable.\n",
        "Lists are one of 4 built-in data types in Python used to store collections of data, the other 3 are Tuple, Set, and Dictionary, all with different qualities and usage.Lists are created using square brackets\n",
        "##There are four collection data types in the Python programming language:\n",
        "1.List is a collection which is ordered and changeable. Allows duplicate members.\n",
        "2.Tuple is a collection which is ordered and unchangeable. Allows duplicate members.\n",
        "3.Set is a collection which is unordered, unchangeable*, and unindexed. No duplicate members.\n",
        "4.Dictionary is a collection which is ordered** and changeable. No duplicate members."
      ]
    },
    {
      "cell_type": "code",
      "execution_count": null,
      "metadata": {
        "colab": {
          "base_uri": "https://localhost:8080/"
        },
        "id": "8t9aW8S-LWuh",
        "outputId": "3e44e1d8-ee08-468f-db8d-a47fb128df74"
      },
      "outputs": [
        {
          "name": "stdout",
          "output_type": "stream",
          "text": [
            "['Java', 'Python', 'PHP']\n",
            "[45, 67, 0, 90.0]\n",
            "[True, False, True]\n",
            "3\n",
            "PHP\n",
            "90.0\n",
            "[67, 0, 90.0]\n",
            "['Java', 'Python']\n",
            "[90.0]\n",
            "<class 'list'>\n",
            "<class 'list'>\n",
            "['book', 'pen', 'copy']\n"
          ]
        }
      ],
      "source": [
        "myList1 = [\"Java\", \"Python\", \"PHP\"]\n",
        "myList2 = [45, 67,0,90.0]\n",
        "myList3 = [True, False, True]\n",
        "print(myList1)\n",
        "print(myList2)\n",
        "print(myList3)\n",
        "\n",
        "print(len(myList1)) #Lenght of the Lists\n",
        "print(myList1[2])\n",
        "print(myList2[-1]) #Negative Indexing\n",
        "print(myList2[1:4])\n",
        "print(myList1[:2]) #Ranging\n",
        "print(myList2[3:])\n",
        "\n",
        "#data type of list\n",
        "print(type(myList1))\n",
        "print(type(myList2))\n",
        "\n",
        "#list() constructor\n",
        "Chart =list(('book', 'pen', 'copy'))\n",
        "print(Chart)"
      ]
    },
    {
      "cell_type": "code",
      "execution_count": null,
      "metadata": {
        "colab": {
          "base_uri": "https://localhost:8080/"
        },
        "id": "HNS6KRVLpL5d",
        "outputId": "9af1e954-4a3e-45e6-cad1-928871cac9f0"
      },
      "outputs": [
        {
          "name": "stdout",
          "output_type": "stream",
          "text": [
            "Yes! Orange is in it.\n"
          ]
        }
      ],
      "source": [
        "#Check a program that fruits available or not\n",
        "\n",
        "Fruits = ['Apple', 'Orange', 'Grapes', 'Mango']\n",
        "if \"Orange\" in Fruits:\n",
        "  print(\"Yes! Orange is in it.\")\n",
        "else:\n",
        "  print(\"No! Orange is not in it.\")"
      ]
    },
    {
      "cell_type": "code",
      "execution_count": null,
      "metadata": {
        "colab": {
          "base_uri": "https://localhost:8080/"
        },
        "id": "3Bya-jt-qiUn",
        "outputId": "8206cf83-1d69-46b0-c2fb-47645ceed004"
      },
      "outputs": [
        {
          "name": "stdout",
          "output_type": "stream",
          "text": [
            "['Java', 'HTML', 'CSS', 'PHP']\n",
            "['bool', 'int', 'float', 'double', 'str']\n"
          ]
        }
      ],
      "source": [
        "#Change List Item\n",
        "myList1 = [\"Java\", \"Python\",\"DBMS\", \"PHP\",]\n",
        "myList1[2] = \"C++\"\n",
        "myList1[1:3] = \"HTML\", \"CSS\"\n",
        "#print(myList1)\n",
        "print(myList1)\n",
        "\n",
        "#Insert Item\n",
        "List = [\"bool\",\"int\",\"float\",\"str\"]\n",
        "List.insert(3, \"double\")\n",
        "print(List)"
      ]
    },
    {
      "cell_type": "code",
      "execution_count": null,
      "metadata": {
        "colab": {
          "base_uri": "https://localhost:8080/"
        },
        "id": "sg9_IaF4tnm7",
        "outputId": "7b74f453-8313-4383-87a7-a0e22ab56a34"
      },
      "outputs": [
        {
          "name": "stdout",
          "output_type": "stream",
          "text": [
            "['bool', 'int', 'float', 'str', 'double']\n",
            "['bool', 'int', 'float', 'str', 'double', 'True', 6, 90.3, 'Python']\n"
          ]
        }
      ],
      "source": [
        "#Append Item\n",
        "List = [\"bool\",\"int\",\"float\",\"str\"]\n",
        "List2 = [\"True\", 6, 90.3, \"Python\"]\n",
        "List3 = (\"True\", 6, 90.3, \"Python\")\n",
        "List.append(\"double\")\n",
        "print(List)\n",
        "\n",
        "#Extend Item\n",
        "#List.extend(List2)\n",
        "#print(List)\n",
        "List.extend(List3)\n",
        "print(List)"
      ]
    },
    {
      "cell_type": "code",
      "execution_count": null,
      "metadata": {
        "colab": {
          "base_uri": "https://localhost:8080/"
        },
        "id": "KLBWyiQ4xPbZ",
        "outputId": "92504a28-7e6e-4501-ca16-8922bbbc5045"
      },
      "outputs": [
        {
          "name": "stdout",
          "output_type": "stream",
          "text": [
            "[]\n"
          ]
        }
      ],
      "source": [
        "#Remove Item\n",
        "list = [\"apple\", \"banana\", \"cherry\",90]\n",
        "list.remove(\"apple\")\n",
        "list.pop(2)\n",
        "list.pop() #pop only last item\n",
        "del list[2]\n",
        "list.clear()\n",
        "print(list)\n"
      ]
    },
    {
      "cell_type": "code",
      "execution_count": null,
      "metadata": {
        "colab": {
          "base_uri": "https://localhost:8080/"
        },
        "id": "co8sRiPh15Ql",
        "outputId": "795195e2-603c-436c-e804-e4538956a088"
      },
      "outputs": [
        {
          "name": "stdout",
          "output_type": "stream",
          "text": [
            "Apple\n",
            "Orange\n",
            "Grapes\n",
            "Mango\n",
            "0\n",
            "1\n",
            "2\n",
            "3\n"
          ]
        }
      ],
      "source": [
        "#Looping in list\n",
        "\n",
        "Fruits = ['Apple', 'Orange', 'Grapes', 'Mango']\n",
        "for i in Fruits:\n",
        "  print(i)\n",
        "#Index Number\n",
        "for i in range(len(Fruits)):\n",
        "  print(i)"
      ]
    },
    {
      "cell_type": "code",
      "execution_count": null,
      "metadata": {
        "colab": {
          "base_uri": "https://localhost:8080/"
        },
        "id": "MgpnFprC4aD4",
        "outputId": "3a2cecb2-2715-4d61-929d-96c370c3edc7"
      },
      "outputs": [
        {
          "name": "stdout",
          "output_type": "stream",
          "text": [
            "Apple\n",
            "Orange\n",
            "Grapes\n",
            "Mango\n"
          ]
        }
      ],
      "source": [
        "#while Loop\n",
        "Fruits = ['Apple', 'Orange', 'Grapes', 'Mango']\n",
        "i =0\n",
        "while i < len(Fruits):\n",
        "  print(Fruits[i])\n",
        "  i= i+1"
      ]
    },
    {
      "cell_type": "code",
      "execution_count": null,
      "metadata": {
        "colab": {
          "base_uri": "https://localhost:8080/"
        },
        "id": "wGAGT433zFFM",
        "outputId": "4fa2b3c8-b4df-44bb-b463-8dec9ed086e1"
      },
      "outputs": [
        {
          "name": "stdout",
          "output_type": "stream",
          "text": [
            "[0, 1, 2, 3, 4]\n"
          ]
        }
      ],
      "source": [
        "newlist = [x for x in range(10) if x < 5]\n",
        "\n",
        "print(newlist)"
      ]
    },
    {
      "cell_type": "code",
      "source": [
        "#List Comprension\n",
        "fruits = [\"apple\", \"banana\", \"cherry\", \"kiwi\", \"mango\"]\n",
        "newlist = []\n",
        "\n",
        "for x in fruits:\n",
        "  if \"a\" in x:\n",
        "    newlist.append(x)\n",
        "\n",
        "print(newlist)"
      ],
      "metadata": {
        "colab": {
          "base_uri": "https://localhost:8080/"
        },
        "id": "GBpZK7HE1N23",
        "outputId": "becdd3a3-bcb8-47af-ae41-64b2ef8a6fe2"
      },
      "execution_count": null,
      "outputs": [
        {
          "output_type": "stream",
          "name": "stdout",
          "text": [
            "['apple', 'banana', 'mango']\n"
          ]
        }
      ]
    },
    {
      "cell_type": "code",
      "source": [
        "#Sort List\n",
        "Fruits = ['Apple', 'Orange', 'Grapes', 'Mango']\n",
        "Num = [200, 40, 500, 65, -2]\n",
        "#Fruits.sort() #sorting alphanumerically\n",
        "\n",
        "Fruits.sort(reverse=True)  #Sort by descending\n",
        "Num.sort()\n",
        "print(Fruits)\n",
        "print(Num)"
      ],
      "metadata": {
        "colab": {
          "base_uri": "https://localhost:8080/"
        },
        "id": "YU_y0nBc2jAg",
        "outputId": "efb03442-63fb-42fb-e7cc-6d8a88270d7e"
      },
      "execution_count": null,
      "outputs": [
        {
          "output_type": "stream",
          "name": "stdout",
          "text": [
            "['Orange', 'Mango', 'Grapes', 'Apple']\n",
            "[-2, 40, 65, 200, 500]\n"
          ]
        }
      ]
    },
    {
      "cell_type": "code",
      "source": [
        "def myfunc(n):\n",
        "  return abs(n - 50)\n",
        "\n",
        "thislist = [100, 50, 65, 82, 23]\n",
        "\n",
        "thislist.sort(key = myfunc)\n",
        "\n",
        "print(thislist)"
      ],
      "metadata": {
        "colab": {
          "base_uri": "https://localhost:8080/"
        },
        "id": "ZylIUjOx49Rz",
        "outputId": "c67a8494-a7dd-4d9a-e538-f67067215e30"
      },
      "execution_count": null,
      "outputs": [
        {
          "output_type": "stream",
          "name": "stdout",
          "text": [
            "[50, 65, 23, 82, 100]\n"
          ]
        }
      ]
    },
    {
      "cell_type": "code",
      "source": [
        "#case insensative sort\n",
        "Fruits = ['apple', 'Orange', 'grapes', 'Mango']\n",
        "#Fruits.sort()\n",
        "#Fruits.sort(key = str.lower)\n",
        "#Fruits.reverse()\n",
        "List = Fruits.copy()\n",
        "print(List)"
      ],
      "metadata": {
        "colab": {
          "base_uri": "https://localhost:8080/"
        },
        "id": "XCrun1JX5JZv",
        "outputId": "65a2f5e8-532f-4fb1-d3a6-0cbd7d4862b5"
      },
      "execution_count": null,
      "outputs": [
        {
          "output_type": "stream",
          "name": "stdout",
          "text": [
            "['apple', 'Orange', 'grapes', 'Mango']\n"
          ]
        }
      ]
    },
    {
      "cell_type": "code",
      "source": [
        "#List Joining\n",
        "\n",
        "Fruits = ['Apple', 'Orange', 'Grapes', 'Mango']\n",
        "Num = [200, 40, 500, 65,]\n",
        "#Final = Fruits + Num\n",
        "#Fruits.extend(Num) #extend list\n",
        "for i in Fruits:\n",
        "  Num.append(i) #Append list\n",
        "\n",
        "print(Num)"
      ],
      "metadata": {
        "colab": {
          "base_uri": "https://localhost:8080/"
        },
        "id": "fRIptS5-9xji",
        "outputId": "dde3ea52-05aa-4a8f-e9b8-75cda6d6854b"
      },
      "execution_count": null,
      "outputs": [
        {
          "output_type": "stream",
          "name": "stdout",
          "text": [
            "[200, 40, 500, 65, 'Apple', 'Orange', 'Grapes', 'Mango']\n"
          ]
        }
      ]
    }
  ],
  "metadata": {
    "colab": {
      "provenance": [],
      "authorship_tag": "ABX9TyP8S3JvZqyxBg+XWkpsEW7Y",
      "include_colab_link": true
    },
    "kernelspec": {
      "display_name": "Python 3",
      "name": "python3"
    },
    "language_info": {
      "name": "python"
    }
  },
  "nbformat": 4,
  "nbformat_minor": 0
}