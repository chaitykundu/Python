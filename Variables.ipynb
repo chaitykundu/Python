{
  "cells": [
    {
      "cell_type": "markdown",
      "metadata": {
        "id": "view-in-github",
        "colab_type": "text"
      },
      "source": [
        "<a href=\"https://colab.research.google.com/github/chaitykundu/Python/blob/main/Variables.ipynb\" target=\"_parent\"><img src=\"https://colab.research.google.com/assets/colab-badge.svg\" alt=\"Open In Colab\"/></a>"
      ]
    },
    {
      "cell_type": "markdown",
      "metadata": {
        "id": "VsGzBMCovGq5"
      },
      "source": [
        "**Variables in Python**"
      ]
    },
    {
      "cell_type": "markdown",
      "metadata": {
        "id": "xVcHuXvDuhuh"
      },
      "source": [
        "**Check a python program in a patient name Jhon Smith. He is 50 years old and a newpatient **"
      ]
    },
    {
      "cell_type": "code",
      "execution_count": null,
      "metadata": {
        "colab": {
          "base_uri": "https://localhost:8080/"
        },
        "id": "b14tHbKytvG0",
        "outputId": "2841b341-d04c-4c39-b346-6a2d96ec7f22"
      },
      "outputs": [
        {
          "name": "stdout",
          "output_type": "stream",
          "text": [
            "Jhon Smith\n",
            "50\n",
            "True\n"
          ]
        }
      ],
      "source": [
        "full_name = \"Jhon Smith\"\n",
        "age = 50\n",
        "is_new = 'True'\n",
        "print(full_name)\n",
        "print(age)\n",
        "print(is_new)"
      ]
    },
    {
      "cell_type": "code",
      "execution_count": null,
      "metadata": {
        "colab": {
          "base_uri": "https://localhost:8080/"
        },
        "id": "NQ1xQ-LhwYtR",
        "outputId": "4d0fa431-1a1b-43ef-a447-2b7bc1db992d"
      },
      "outputs": [
        {
          "name": "stdout",
          "output_type": "stream",
          "text": [
            "what is your name?Jui\n",
            "What is your favourite color?Green\n",
            "Hi! Jui likes Green\n"
          ]
        }
      ],
      "source": [
        "#Person's Name and favourite color. then print message like: Jui like Black\n",
        "name =(input('what is your name?'))\n",
        "color =(input('What is your favourite color?'))\n",
        "print('Hi! ' +name + ' likes ' +color)\n"
      ]
    },
    {
      "cell_type": "code",
      "execution_count": null,
      "metadata": {
        "colab": {
          "base_uri": "https://localhost:8080/"
        },
        "id": "tsFIu0ARwYmM",
        "outputId": "a9d41a82-33dd-43e5-b2cd-27ded6377e10"
      },
      "outputs": [
        {
          "name": "stdout",
          "output_type": "stream",
          "text": [
            " Your Birth Year: 1999\n",
            "26\n",
            "<class 'int'>\n"
          ]
        }
      ],
      "source": [
        "#Check the age\n",
        "birth_year = input( ' Your Birth Year: ')\n",
        "age = 2025 - int(birth_year)\n",
        "print(age)\n",
        "print(type(age))"
      ]
    },
    {
      "cell_type": "code",
      "execution_count": null,
      "metadata": {
        "colab": {
          "base_uri": "https://localhost:8080/"
        },
        "id": "c2CIVGnz2BSI",
        "outputId": "6f0e9f8a-bb34-422d-9c8e-17c6b99e10bc"
      },
      "outputs": [
        {
          "name": "stdout",
          "output_type": "stream",
          "text": [
            "Your Weight(lbs): 120\n",
            "54.0\n"
          ]
        }
      ],
      "source": [
        "#Ask a user their weight in pound and convert it to KG.\n",
        "weight_lbs = input('Your Weight(lbs): ')\n",
        "weight_kg = int(weight_lbs) *0.45\n",
        "print(weight_kg)\n"
      ]
    },
    {
      "cell_type": "code",
      "execution_count": null,
      "metadata": {
        "colab": {
          "base_uri": "https://localhost:8080/"
        },
        "id": "szwRt54SCTzB",
        "outputId": "f433328b-d6cc-4046-95d3-c5405175f68b"
      },
      "outputs": [
        {
          "output_type": "stream",
          "name": "stdout",
          "text": [
            "ython Programming Langua\n",
            "ho\n",
            "27\n",
            "PYTHON PROGRAMMING LANGUAGE\n",
            "python programming language\n",
            "Python Programming Language\n",
            "-1\n",
            "19\n",
            "Python is Case Sensetive Language\n",
            "False\n",
            "True\n"
          ]
        }
      ],
      "source": [
        "#python strings\n",
        "name ='Python Programming Language'\n",
        "print(name[1:-2])\n",
        "print(name[3:5])\n",
        "\n",
        "print(len(name))\n",
        "#name.upper()\n",
        "print(name.upper())\n",
        "print(name.lower())\n",
        "print(name.title())\n",
        "print(name.find('0'))\n",
        "print(name.find('Language'))\n",
        "print(name.replace('Programming',\"is Case Sensetive\"))\n",
        "print('python' in name)\n",
        "print('Language' in name)"
      ]
    },
    {
      "cell_type": "code",
      "execution_count": null,
      "metadata": {
        "colab": {
          "base_uri": "https://localhost:8080/"
        },
        "id": "zngfX2KlgedR",
        "outputId": "099fddf6-3dc1-4c70-fa08-d29b174e0be2"
      },
      "outputs": [
        {
          "name": "stdout",
          "output_type": "stream",
          "text": [
            "<class 'int'>\n",
            "<class 'float'>\n",
            "<class 'complex'>\n"
          ]
        }
      ],
      "source": [
        "#data types\n",
        "x=2223   #integer\n",
        "y= -778.55  #Float\n",
        "z= 6+7j    #Complex\n",
        "print(type(x))\n",
        "print(type(y))\n",
        "print(type(z))"
      ]
    },
    {
      "cell_type": "code",
      "execution_count": null,
      "metadata": {
        "colab": {
          "base_uri": "https://localhost:8080/"
        },
        "id": "VG4Y8--9iDM2",
        "outputId": "52ca94d4-9d43-481e-e041-6b74f454fdf3"
      },
      "outputs": [
        {
          "output_type": "stream",
          "name": "stdout",
          "text": [
            "1\n"
          ]
        }
      ],
      "source": [
        "#random module\n",
        "\n",
        "import random\n",
        "print(random.randrange(1, 10))"
      ]
    },
    {
      "cell_type": "code",
      "source": [
        "#Boolean - Evaluate an expression is true or false\n",
        "print(20 > 8)\n",
        "print(9<4)\n",
        "print(10==0)\n",
        "\n",
        "a, b = 20, 50\n",
        "if(b > a):\n",
        "  print(\"b is greater than a: True\")\n",
        "else:\n",
        "  print(\"b is not greater than a: False\")\n",
        "\n",
        "#bool function\n",
        "x = \"Hey!\"\n",
        "print(bool(x))\n",
        "print(bool(b))\n",
        "print(bool(0))\n",
        "bool([]) #if no values, (), {},[], none = false\n",
        "print(isinstance(b, int)) # isinstance defines certain datatype"
      ],
      "metadata": {
        "colab": {
          "base_uri": "https://localhost:8080/"
        },
        "id": "RVfe9Zpq9llk",
        "outputId": "9c776367-97b9-4e54-ce65-74e390de54c8"
      },
      "execution_count": null,
      "outputs": [
        {
          "output_type": "stream",
          "name": "stdout",
          "text": [
            "True\n",
            "False\n",
            "False\n",
            "b is greater than a: True\n",
            "True\n",
            "True\n",
            "False\n",
            "True\n"
          ]
        }
      ]
    },
    {
      "cell_type": "code",
      "source": [
        "#Examplee\n",
        "class my_class():\n",
        "  def __len__(self): # if we use __len__ function it returs 0 = false\n",
        "    return 0\n",
        "obj = my_class()\n",
        "print(bool(obj))\n",
        "\n",
        "#Example2\n",
        "def myfunc():\n",
        "  return True\n",
        "if(myfunc()):\n",
        "  print(\"YES\")\n",
        "else:\n",
        "  print(\"NO\")\n"
      ],
      "metadata": {
        "colab": {
          "base_uri": "https://localhost:8080/"
        },
        "id": "BXbW_h-ZA_6R",
        "outputId": "e9491147-a353-4c8f-9f84-ebd323795282"
      },
      "execution_count": null,
      "outputs": [
        {
          "output_type": "stream",
          "name": "stdout",
          "text": [
            "False\n",
            "YES\n"
          ]
        }
      ]
    },
    {
      "cell_type": "markdown",
      "metadata": {
        "id": "toD4Q5ubK9Cd"
      },
      "source": [
        "**Arithmatic Operation**\n"
      ]
    },
    {
      "cell_type": "code",
      "execution_count": null,
      "metadata": {
        "colab": {
          "base_uri": "https://localhost:8080/"
        },
        "id": "yolj0fQsLOPd",
        "outputId": "2d923581-bf6a-4dc0-e0cb-762a9a0288b4"
      },
      "outputs": [
        {
          "output_type": "stream",
          "name": "stdout",
          "text": [
            "15 3 48 2.0\n",
            "18 5 100 8.0\n",
            "169\n",
            "4\n",
            "3.9\n"
          ]
        }
      ],
      "source": [
        "a,b,c,d = 8, 15, 20, 16\n",
        "print(a+7, a-5, a*6, a/4)\n",
        "#a= a+10\n",
        "a +=10\n",
        "b -=10\n",
        "c *=5\n",
        "d /=2\n",
        "print(a,b,c,d)\n",
        "\n",
        "x = (10 + 3) ** 2\n",
        "print(x)\n",
        "3**2\n",
        "\n",
        "#round(build in function)\n",
        "y=3.9\n",
        "print(round(y))\n",
        "print(abs(-3.9))#absolute always return positive\n"
      ]
    }
  ],
  "metadata": {
    "colab": {
      "provenance": [],
      "authorship_tag": "ABX9TyMJ2D/i4b08QI5lMcWebgRh",
      "include_colab_link": true
    },
    "kernelspec": {
      "display_name": "Python 3",
      "name": "python3"
    },
    "language_info": {
      "name": "python"
    }
  },
  "nbformat": 4,
  "nbformat_minor": 0
}